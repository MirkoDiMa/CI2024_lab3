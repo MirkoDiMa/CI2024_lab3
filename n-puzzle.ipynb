{
 "cells": [
  {
   "cell_type": "markdown",
   "metadata": {
    "vscode": {
     "languageId": "plaintext"
    }
   },
   "source": [
    "Copyright **`(c)`** 2024 Giovanni Squillero `<giovanni.squillero@polito.it>`  \n",
    "[`https://github.com/squillero/computational-intelligence`](https://github.com/squillero/computational-intelligence)  \n",
    "Free under certain conditions — see the [`license`](https://github.com/squillero/computational-intelligence/blob/master/LICENSE.md) for details.  "
   ]
  },
  {
   "cell_type": "code",
   "execution_count": 11,
   "metadata": {},
   "outputs": [],
   "source": [
    "from collections import namedtuple\n",
    "from random import choice\n",
    "from tqdm.auto import tqdm\n",
    "import numpy as np\n",
    "from heapq import heappush, heappop "
   ]
  },
  {
   "cell_type": "code",
   "execution_count": 12,
   "metadata": {},
   "outputs": [],
   "source": [
    "PUZZLE_DIM = 4\n",
    "action = namedtuple('Action', ['pos1', 'pos2'])"
   ]
  },
  {
   "cell_type": "code",
   "execution_count": 13,
   "metadata": {},
   "outputs": [],
   "source": [
    "def available_actions(state: np.ndarray) -> list['Action']:\n",
    "    x, y = [int(_[0]) for _ in np.where(state == 0)]\n",
    "    actions = list()\n",
    "    if x > 0:\n",
    "        actions.append(action((x, y), (x - 1, y)))\n",
    "    if x < PUZZLE_DIM - 1:\n",
    "        actions.append(action((x, y), (x + 1, y)))\n",
    "    if y > 0:\n",
    "        actions.append(action((x, y), (x, y - 1)))\n",
    "    if y < PUZZLE_DIM - 1:\n",
    "        actions.append(action((x, y), (x, y + 1)))\n",
    "    return actions\n",
    "\n",
    "\n",
    "\n",
    "def do_action(state: np.ndarray, action: 'Action') -> np.ndarray:\n",
    "    new_state = state.copy()\n",
    "    new_state[action.pos1], new_state[action.pos2] = new_state[action.pos2], new_state[action.pos1]\n",
    "    return new_state"
   ]
  },
  {
   "cell_type": "markdown",
   "metadata": {},
   "source": [
    "# Heuristic Function: Manhattan Distance"
   ]
  },
  {
   "cell_type": "code",
   "execution_count": 14,
   "metadata": {},
   "outputs": [],
   "source": [
    "def manhattan_distance(state, goal):\n",
    "    \"\"\"Calculates the Manhattan distance of the state from the goal.\"\"\"\n",
    "    dist = 0\n",
    "    for value in range(1, PUZZLE_DIM**2):\n",
    "        x1, y1 = np.where(state == value)\n",
    "        x2, y2 = np.where(goal == value)\n",
    "        dist += abs(x1.item() - x2.item()) + abs(y1.item() - y2.item())\n",
    "    return dist"
   ]
  },
  {
   "cell_type": "markdown",
   "metadata": {},
   "source": [
    "# A* Search Implementation"
   ]
  },
  {
   "cell_type": "code",
   "execution_count": 15,
   "metadata": {},
   "outputs": [],
   "source": [
    "def a_star_solver(start_state, goal_state):\n",
    "    \"\"\"Solves the n-puzzle using the A* search algorithm.\"\"\"\n",
    "    frontier = []\n",
    "    heappush(frontier, (0, tuple(map(tuple, start_state)), []))  # Convert array to tuple for immutability\n",
    "    visited = set()\n",
    "    visited.add(tuple(map(tuple, start_state)))  # Use tuple representation for states\n",
    "\n",
    "    total_nodes_evaluated = 0  # Track the number of nodes evaluated\n",
    "\n",
    "    while frontier:\n",
    "        total_nodes_evaluated += 1\n",
    "        priority, current_state, path = heappop(frontier)\n",
    "        \n",
    "        # Convert current state back to numpy array\n",
    "        current_state_array = np.array(current_state)\n",
    "\n",
    "        # Check if the current state is the goal state\n",
    "        if np.array_equal(current_state_array, goal_state):\n",
    "            return path, total_nodes_evaluated\n",
    "        \n",
    "        # Expand the current state\n",
    "        for action in available_actions(current_state_array):\n",
    "            new_state_array = do_action(current_state_array, action)\n",
    "            new_state = tuple(map(tuple, new_state_array))  # Convert new state to tuple\n",
    "            if new_state not in visited:\n",
    "                visited.add(new_state)\n",
    "                cost = len(path) + 1  # g(n) = path length\n",
    "                heuristic = manhattan_distance(new_state_array, goal_state)  # h(n)\n",
    "                heappush(frontier, (cost + heuristic, new_state, path + [action]))\n",
    "    return None, total_nodes_evaluated  # No solution found"
   ]
  },
  {
   "cell_type": "markdown",
   "metadata": {},
   "source": [
    "# Create the goal state"
   ]
  },
  {
   "cell_type": "code",
   "execution_count": 16,
   "metadata": {},
   "outputs": [],
   "source": [
    "goal_state = np.array([i for i in range(1, PUZZLE_DIM**2)] + [0]).reshape((PUZZLE_DIM, PUZZLE_DIM))"
   ]
  },
  {
   "cell_type": "markdown",
   "metadata": {},
   "source": [
    "# Randomize the puzzle"
   ]
  },
  {
   "cell_type": "code",
   "execution_count": 17,
   "metadata": {},
   "outputs": [
    {
     "data": {
      "application/vnd.jupyter.widget-view+json": {
       "model_id": "44d0a6920903483d906ebac6e921cd00",
       "version_major": 2,
       "version_minor": 0
      },
      "text/plain": [
       "Randomizing:   0%|          | 0/100000 [00:00<?, ?it/s]"
      ]
     },
     "metadata": {},
     "output_type": "display_data"
    },
    {
     "data": {
      "text/plain": [
       "array([[ 5,  3,  1, 12],\n",
       "       [ 2,  0, 14,  7],\n",
       "       [ 4, 11,  6, 15],\n",
       "       [13, 10,  9,  8]])"
      ]
     },
     "execution_count": 17,
     "metadata": {},
     "output_type": "execute_result"
    }
   ],
   "source": [
    "RANDOMIZE_STEPS = 100_000\n",
    "state = np.array([i for i in range(1, PUZZLE_DIM**2)] + [0]).reshape((PUZZLE_DIM, PUZZLE_DIM))\n",
    "for r in tqdm(range(RANDOMIZE_STEPS), desc='Randomizing'):\n",
    "    state = do_action(state, choice(available_actions(state)))\n",
    "state"
   ]
  },
  {
   "cell_type": "markdown",
   "metadata": {},
   "source": [
    "# Display the Initial and Goal States"
   ]
  },
  {
   "cell_type": "code",
   "execution_count": 18,
   "metadata": {},
   "outputs": [
    {
     "name": "stdout",
     "output_type": "stream",
     "text": [
      "Initial State:\n",
      "[[ 5  3  1 12]\n",
      " [ 2  0 14  7]\n",
      " [ 4 11  6 15]\n",
      " [13 10  9  8]]\n",
      "\n",
      "Goal State:\n",
      "[[ 1  2  3  4]\n",
      " [ 5  6  7  8]\n",
      " [ 9 10 11 12]\n",
      " [13 14 15  0]]\n"
     ]
    }
   ],
   "source": [
    "print(\"Initial State:\")\n",
    "print(state)\n",
    "print(\"\\nGoal State:\")\n",
    "print(goal_state)"
   ]
  },
  {
   "cell_type": "markdown",
   "metadata": {},
   "source": [
    "# Solve the Puzzle"
   ]
  },
  {
   "cell_type": "code",
   "execution_count": 19,
   "metadata": {},
   "outputs": [],
   "source": [
    "solution, total_nodes_evaluated = a_star_solver(state, goal_state)"
   ]
  },
  {
   "cell_type": "markdown",
   "metadata": {},
   "source": [
    "# Display Results"
   ]
  },
  {
   "cell_type": "code",
   "execution_count": 21,
   "metadata": {},
   "outputs": [
    {
     "name": "stdout",
     "output_type": "stream",
     "text": [
      "\n",
      "Solution Found!\n",
      "Quality: 48 (Number of actions in the solution)\n",
      "Cost: 6653987 (Total number of actions evaluated)\n",
      "Efficiency: 0.0000 (Quality vs Cost)\n"
     ]
    }
   ],
   "source": [
    "if solution:\n",
    "    quality = len(solution)  # Number of actions in the solution\n",
    "    cost = total_nodes_evaluated  # Total number of nodes evaluated\n",
    "    efficiency = quality / cost  # Efficiency: quality vs cost\n",
    "    \n",
    "    print(f\"\\nSolution Found!\")\n",
    "    print(f\"Quality: {quality} (Number of actions in the solution)\")\n",
    "    print(f\"Cost: {cost} (Total number of actions evaluated)\")\n",
    "    print(f\"Efficiency: {efficiency:.4f} (Quality vs Cost)\")\n",
    "else:\n",
    "    print(\"\\nNo solution found.\")"
   ]
  }
 ],
 "metadata": {
  "kernelspec": {
   "display_name": "ci-g9M0Db4Q-py3.11",
   "language": "python",
   "name": "python3"
  },
  "language_info": {
   "codemirror_mode": {
    "name": "ipython",
    "version": 3
   },
   "file_extension": ".py",
   "mimetype": "text/x-python",
   "name": "python",
   "nbconvert_exporter": "python",
   "pygments_lexer": "ipython3",
   "version": "3.11.7"
  }
 },
 "nbformat": 4,
 "nbformat_minor": 2
}
